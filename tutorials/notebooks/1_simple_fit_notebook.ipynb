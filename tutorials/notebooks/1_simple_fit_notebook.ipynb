{
  "cells": [
    {
      "attachments": {},
      "cell_type": "markdown",
      "metadata": {},
      "source": [
        "# Welcome to the Simple Fit NEMS tutorial\n",
        "This short notebook will go over some initial topics, functions, and classes that are important to getting started using NEMS. If you'd like more general information, please check out our github page: https://github.com/LBHB/NEMS\n",
        "\n",
        "NEMS is based around a lot of the work done through TensorFlow, so it may be worth looking into TensorFlow itself if you need help with the fundamentals behind this: https://www.tensorflow.org/\n",
        "\n",
        "**Note:** Make sure to compile this notebook using you nems-env\n",
        "\n",
        "**This is a work in progress**"
      ]
    },
    {
      "cell_type": "code",
      "execution_count": 1,
      "metadata": {},
      "outputs": [],
      "source": [
        "import numpy as np\n",
        "import matplotlib.pyplot as plt\n",
        "\n",
        "from nems import Model\n",
        "from nems.layers import STRF, DoubleExponential, StateGain\n",
        "from nems.models import LN_STRF\n",
        "\n",
        "#This is specifically for notebooks only\n",
        "%matplotlib inline"
      ]
    },
    {
      "attachments": {},
      "cell_type": "markdown",
      "metadata": {},
      "source": [
        "## Section 1: Setting up your data\n",
        "As with any other Neural Network, your data will need to be recorded, imported, and formatted in a way that is actually usable by NEMS itself. We do provide example fake data below, and have a database you can access by taking a look at the example on our github page. "
      ]
    },
    {
      "cell_type": "code",
      "execution_count": 2,
      "metadata": {},
      "outputs": [],
      "source": [
        "# Fast-running toy fit options for demonstrations.\n",
        "options = {'options': {'maxiter': 2, 'ftol': 1e-2}}"
      ]
    },
    {
      "attachments": {},
      "cell_type": "markdown",
      "metadata": {},
      "source": [
        "- All processed data will need to be in the form of a 2D numpy array\n",
        "- Layers typically use the structure (T,N) where T is an axis of Time and N is an axis of some form of channel, or section\n",
        "- Layers may also use a structure (T, S) where T is Time, and S is an axis that represents some state\n",
        "\n",
        "There are of course other layers with their own structures, and your own layers with varying sets of inputs/outputs. But this will cover most inital and basic layers to get things started."
      ]
    },
    {
      "cell_type": "code",
      "execution_count": 3,
      "metadata": {},
      "outputs": [
        {
          "name": "stdout",
          "output_type": "stream",
          "text": [
            "Loading data from /path/to/my/data.csv, but not really...\n"
          ]
        }
      ],
      "source": [
        "########################################################\n",
        "#\n",
        "# Typical nems.Layers structure:\n",
        "# layer_example(TIME, CHANNEL)\n",
        "#\n",
        "# (X Axis, 2D Numpy Array): TIME can be any representation relevent to your data\n",
        "# (Y Axis, 2D Numpy Array): CHANNEL is some seperation of data inputs ie... Neuron, Sepctral Channel, etc...\n",
        "#\n",
        "# Examples: \n",
        "#   1. Spiking responses of neurons is set up as shape(TIME, NEURONS)\n",
        "#   2. Pupil Size is represented as shape(TIME, PUPIL_STATES)\n",
        "# See more at: https://temp.website.net/nems.Layers\n",
        "########################################################\n",
        "\n",
        "###########################\n",
        "# A dummy representation of potential LBHB data\n",
        "#   Spectrogram: A representation of sound stimulus and neuron response\n",
        "#   Pupil_size: A measurement of arousal\n",
        "###########################\n",
        "def my_data_loader(file_path):\n",
        "    print(f'Loading data from {file_path}, but not really...')\n",
        "\n",
        "    # TIME = Representation of some x time to use in our layers\n",
        "    # CHANNELS = Representation of some y channels for # of inputs in our layers\n",
        "    TIME = 1000\n",
        "    CHANNELS = 18\n",
        "\n",
        "    # Creation of random 2D numpy array with X time representation and Y channel representations\n",
        "    spectrogram = np.random.rand(TIME, CHANNELS)\n",
        "    # Using our Spectrogram to create a target set of data that our model will attempt to fit\n",
        "    response = np.stack(spectrogram[:, :5])\n",
        "    # An example of using states to fit our model together\n",
        "    pupil_size = np.random.rand(TIME, 1)\n",
        "    \n",
        "    return spectrogram, response, pupil_size, TIME, CHANNELS\n",
        "\n",
        "# Create variables from our data import function\n",
        "spectrogram, response, pupil_size, TIME, CHANNELS = my_data_loader('/path/to/my/data.csv')"
      ]
    },
    {
      "attachments": {},
      "cell_type": "markdown",
      "metadata": {},
      "source": [
        "Here is a set of graphs that represent our Spectrogram data, so you can see what our data looks like before anything happens"
      ]
    },
    {
      "cell_type": "code",
      "execution_count": null,
      "metadata": {},
      "outputs": [],
      "source": [
        "raw_plot, ax = plt.subplots(3, 3, figsize=(12,8))\n",
        "for i in range(0, 9):\n",
        "    ax[int(np.ceil(i/3)-1)][i%3].plot(range(0,TIME), (spectrogram[:, i]*10).astype(int)) \n",
        "plt.show()"
      ]
    },
    {
      "attachments": {},
      "cell_type": "markdown",
      "metadata": {},
      "source": [
        "## Section 2: Creating your first model\n",
        "\n",
        "A model in NEMS is a class imported directly from NEMS. It contains a variety of functions and initial parameters to help get your model initialized and set up.\n",
        "\n",
        "- add_layers will allow you to provide a set of layers for the model to use.\n",
        "    - These layers may be sequential, or can have specified inputs/outputs as well depending on the type\n",
        "    - Layers can also be specified during the initalization of your model in the form Model(layers=[list_of_layers])"
      ]
    },
    {
      "cell_type": "code",
      "execution_count": 5,
      "metadata": {},
      "outputs": [],
      "source": [
        "model = Model()\n",
        "model.add_layers(\n",
        "    STRF(shape=(25,18)),    # Full-rank STRF, 25 temporal x 18 spectral channels\n",
        "    DoubleExponential(shape=(5,)) # Double-exponential nonlinearity, 100 outputs\n",
        ")"
      ]
    },
    {
      "attachments": {},
      "cell_type": "markdown",
      "metadata": {},
      "source": [
        "## Section 3: Fitting the model\n",
        "Once you have a model created and layers set up, you can start to fit your data through the model itself. \n",
        "\n",
        "Our fitting function will take a given **input**(In this case, a 2D array of 18 channels at time 1000) and fit it to a given **target**(A second 2D array with 1 channel and time 1000).\n",
        "\n",
        "- Fitter options can also be provided, like defined at the top of this page. Although you may want to look at: (TEMP) for more info on what could be done\n",
        "- The function itself will attempt to fit the input to our target, which can then be used for predictions or plots data"
      ]
    },
    {
      "cell_type": "code",
      "execution_count": null,
      "metadata": {},
      "outputs": [],
      "source": [
        "fit_model = model.fit(input=spectrogram, target=response,\n",
        "                      fitter_options=options)\n",
        "fig = fit_model.plot(spectrogram,target=response, figure_kwargs={'figsize': (12,8)})"
      ]
    },
    {
      "cell_type": "code",
      "execution_count": null,
      "metadata": {},
      "outputs": [],
      "source": [
        "model.add_layers(StateGain(shape=(1,1)))\n",
        "state_fit = model.fit(input=spectrogram, target=response, state=pupil_size, backend='scipy',\n",
        "                      fitter_options=options)"
      ]
    },
    {
      "attachments": {},
      "cell_type": "markdown",
      "metadata": {},
      "source": [
        "## Section 4: Predicting with our model\n",
        "\n",
        "Now that a model is fitted, we can look to predict some form of data.\n",
        "\n",
        "- Predict will take an input, and other parameters depending on the layers, to provide an output prediction of the input data\n",
        "- This can also vary depending on the layers, number of inputs, and number of outputs"
      ]
    },
    {
      "cell_type": "code",
      "execution_count": null,
      "metadata": {},
      "outputs": [],
      "source": [
        "prediction = state_fit.predict(spectrogram, state=pupil_size)\n",
        "fig = state_fit.plot(spectrogram, state=pupil_size, target=response, figure_kwargs={'figsize': (12,8)})"
      ]
    },
    {
      "attachments": {},
      "cell_type": "markdown",
      "metadata": {},
      "source": [
        "## Section 5: Provided models\n",
        "While we provide all the tools to create your own layers and models, we also provide a pre-built model as well. \n",
        "LN_STRF will start with a set of time_bins and channels for it's initialization, but then your free to immediately start fitting and predicting on this model."
      ]
    },
    {
      "cell_type": "code",
      "execution_count": null,
      "metadata": {},
      "outputs": [],
      "source": [
        "prefit_model = LN_STRF(time_bins=TIME, channels=CHANNELS)\n",
        "fitted_LN = prefit_model.fit(input=spectrogram, target=response, output_name='pred')\n",
        "prefit_prediction = prefit_model.predict(spectrogram)\n",
        "fig = fitted_LN.plot(spectrogram, target=response, figure_kwargs={'figsize': (12,8)})"
      ]
    },
    {
      "attachments": {},
      "cell_type": "markdown",
      "metadata": {},
      "source": [
        "## Section 6: Viewing your data\n",
        "We also provide tool to view your data and plot inputs/outputs for your layers.\n",
        "\n",
        "- Plot will take in sets of inputs for your model, and provided KWargs to create graphs of data that show the provided layers and their outputs throughout the models cycle.\n",
        "- This allows you to track the changes in your data as it gets fitted to the model and predicted. It also gives you the oppurtunity to build the plot as you see fit with figure_kwargs\n",
        "\n",
        "**I also provided a sample of channels from our fake data, so you can see what data is being pushed into the model before it has done anything**"
      ]
    },
    {
      "cell_type": "code",
      "execution_count": null,
      "metadata": {},
      "outputs": [],
      "source": [
        "fig = state_fit.plot(spectrogram, state=pupil_size, target=response, figure_kwargs={'figsize': (12,8)})\n",
        "fig = fitted_LN.plot(spectrogram, target=response, figure_kwargs={'figsize': (12,8)})\n",
        "fig = fit_model.plot(spectrogram,target=response, figure_kwargs={'figsize': (12,8)})"
      ]
    },
    {
      "cell_type": "code",
      "execution_count": null,
      "metadata": {},
      "outputs": [],
      "source": [
        "raw_plot, ax = plt.subplots(3, 3, figsize=(12,8))\n",
        "for i in range(0, 9):\n",
        "    ax[int(np.ceil(i/3)-1)][i%3].plot(range(0,TIME), (spectrogram[:, i]*10).astype(int)) \n",
        "plt.show()"
      ]
    }
  ],
  "metadata": {
    "kernelspec": {
      "display_name": "base",
      "language": "python",
      "name": "python3"
    },
    "language_info": {
      "codemirror_mode": {
        "name": "ipython",
        "version": 3
      },
      "file_extension": ".py",
      "mimetype": "text/x-python",
      "name": "python",
      "nbconvert_exporter": "python",
      "pygments_lexer": "ipython3",
      "version": "3.9.12"
    }
  },
  "nbformat": 4,
  "nbformat_minor": 4
}
