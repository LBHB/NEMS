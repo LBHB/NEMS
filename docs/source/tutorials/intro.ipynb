{
 "cells": [
  {
   "attachments": {},
   "cell_type": "markdown",
   "metadata": {},
   "source": [
    "# Introduction to NEMS\n",
    "\n",
    "Modeling with NEMS four basic steps:\n",
    "1. Loading properly formatted data and performing any necessary preprocessing.\n",
    "1. Building a model for the data.\n",
    "1. Fitting the model to the data.\n",
    "1. Assessing model performance.\n",
    "\n",
    "In this introduction, we'll cover the basic coding objects used to accomplish\n",
    "those steps and then walk through a simple example.\n",
    "\n",
    "### Important objects\n",
    "1. `Layer`: encapsulates a single mathematical transformation and an associated\n",
    "          set of trainable parameters.\n",
    "1. `Model`: a collection of Layers that determines the transformation between input\n",
    "          data and the predicted output.\n",
    "\n",
    "### Layer\n",
    "Most Layers have one or more trainable `Parameter` values tracked by a single\n",
    "`Phi` container. These objects determine the trainable numbers that will be\n",
    "substituted in the mathematical operation specified by `Layer.evaluate`.\n",
    "The `Parameter` and `Phi` classes can be thought of as numpy arrays and python\n",
    "dictionaries, respectfully, with some NEMS-specific bookkeeping tacked on.\n",
    "Default `Parameter` values are determined by the `Layer.initial_parameters`\n",
    "method.\n",
    "\n",
    "Let's design a couple new Layer subclasses to demonstrate:"
   ]
  },
  {
   "cell_type": "code",
   "execution_count": 1,
   "metadata": {},
   "outputs": [],
   "source": [
    "import numpy as np\n",
    "from nems.layers.base import Layer, Phi, Parameter\n",
    "\n",
    "class Sum(Layer):\n",
    "    def evaluate(self, *inputs):\n",
    "        # All inputs are treated the same, no fittable parameters.\n",
    "        return np.sum(inputs)\n",
    "\n",
    "class WeightedSum(Layer):\n",
    "\n",
    "    def initial_parameters(self):\n",
    "        a = Parameter('a', shape=(1,))\n",
    "        b = Parameter('b', shape=(1,))\n",
    "        return Phi(a, b)\n",
    "\n",
    "    def evaluate(self, input1, input2):\n",
    "        # Only two inputs are supported, and they are weighted differently.\n",
    "        a, b = self.get_parameter_values('a', 'b')\n",
    "        return a*input1 + b*input2"
   ]
  },
  {
   "attachments": {},
   "cell_type": "markdown",
   "metadata": {},
   "source": [
    "Now, let's create some instances of our new `Layers` and take a look at a summary\n",
    "of their properties."
   ]
  },
  {
   "cell_type": "code",
   "execution_count": 5,
   "metadata": {},
   "outputs": [
    {
     "data": {
      "text/plain": [
       "Sum(shape=None)\n",
       "================================"
      ]
     },
     "execution_count": 5,
     "metadata": {},
     "output_type": "execute_result"
    }
   ],
   "source": [
    "sum = Sum()\n",
    "sum\n"
   ]
  },
  {
   "cell_type": "code",
   "execution_count": 9,
   "metadata": {},
   "outputs": [
    {
     "data": {
      "text/plain": [
       "WeightedSum(shape=None)\n",
       "================================\n",
       "Parameter(name=a, shape=(1,))\n",
       "----------------\n",
       "Parameter(name=b, shape=(1,))\n",
       "================================"
      ]
     },
     "execution_count": 9,
     "metadata": {},
     "output_type": "execute_result"
    }
   ],
   "source": [
    "weighted = WeightedSum()\n",
    "weighted"
   ]
  },
  {
   "attachments": {},
   "cell_type": "markdown",
   "metadata": {},
   "source": [
    "Notice that the two `Parameters` we created for the `WeightedSum` subclass\n",
    "show up here. If we want to see more detail, like their numeric values,\n",
    "we can `print` a full report for the `Layer` instead:"
   ]
  },
  {
   "cell_type": "code",
   "execution_count": 10,
   "metadata": {},
   "outputs": [
    {
     "name": "stdout",
     "output_type": "stream",
     "text": [
      "WeightedSum(shape=None)\n",
      "================================\n",
      ".parameters:\n",
      "\n",
      "Parameter(name=a, shape=(1,))\n",
      "----------------\n",
      ".prior:     Normal(μ=array(shape=(1)), σ=array(shape=(1)))\n",
      ".bounds:    (-inf, inf)\n",
      ".is_frozen: False\n",
      ".values:\n",
      "[0.]\n",
      "----------------\n",
      "Index: 0\n",
      "----------------\n",
      "\n",
      "Parameter(name=b, shape=(1,))\n",
      "----------------\n",
      ".prior:     Normal(μ=array(shape=(1)), σ=array(shape=(1)))\n",
      ".bounds:    (-inf, inf)\n",
      ".is_frozen: False\n",
      ".values:\n",
      "[0.]\n",
      "----------------\n",
      "Index: 0\n",
      "----------------\n",
      "\n",
      "================================\n"
     ]
    }
   ],
   "source": [
    "print(weighted)"
   ]
  },
  {
   "attachments": {},
   "cell_type": "markdown",
   "metadata": {},
   "source": [
    "We can see that both parameters currently have a value of 0. This is because\n",
    "the default behavior for parameter intialization is to set the values to the\n",
    "mean of each `Parameter`'s prior `Distribution`. Since we didn't specify the\n",
    "`Distribution` ourselves, it defaulted to a normal distribution with mean zero\n",
    "and standard deviation 1. To choose a different prior, we could have specified\n",
    "it in the `initial_parameters` method, or we can set it when creating a new\n",
    "`WeightedSum` instance:"
   ]
  },
  {
   "cell_type": "code",
   "execution_count": 13,
   "metadata": {},
   "outputs": [
    {
     "name": "stdout",
     "output_type": "stream",
     "text": [
      "WeightedSum(shape=None)\n",
      "================================\n",
      ".parameters:\n",
      "\n",
      "Parameter(name=a, shape=(1,))\n",
      "----------------\n",
      ".prior:     Normal(μ=array(shape=(1)), σ=array(shape=(1)))\n",
      ".bounds:    (-inf, inf)\n",
      ".is_frozen: False\n",
      ".values:\n",
      "[0.]\n",
      "----------------\n",
      "Index: 0\n",
      "----------------\n",
      "\n",
      "Parameter(name=b, shape=(1,))\n",
      "----------------\n",
      ".prior:     Normal(μ=array(shape=(1)), σ=array(shape=(1)))\n",
      ".bounds:    (-inf, inf)\n",
      ".is_frozen: False\n",
      ".values:\n",
      "[0.]\n",
      "----------------\n",
      "Index: 0\n",
      "----------------\n",
      "\n",
      "================================\n"
     ]
    }
   ],
   "source": [
    "from nems.distributions import HalfNormal\n",
    "\n",
    "weighted = WeightedSum(priors={'a': HalfNormal(sd=1)})\n",
    "print(weighted)"
   ]
  },
  {
   "attachments": {},
   "cell_type": "markdown",
   "metadata": {},
   "source": []
  }
 ],
 "metadata": {
  "kernelspec": {
   "display_name": "nems-env",
   "language": "python",
   "name": "python3"
  },
  "language_info": {
   "codemirror_mode": {
    "name": "ipython",
    "version": 3
   },
   "file_extension": ".py",
   "mimetype": "text/x-python",
   "name": "python",
   "nbconvert_exporter": "python",
   "pygments_lexer": "ipython3",
   "version": "3.9.12"
  },
  "orig_nbformat": 4,
  "vscode": {
   "interpreter": {
    "hash": "db2be69b1998ea19ccbeea4ffe5a2fe921bd3007ff03eaeffbb421f0a1755fa8"
   }
  }
 },
 "nbformat": 4,
 "nbformat_minor": 2
}
