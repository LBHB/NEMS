{
 "cells": [
  {
   "attachments": {},
   "cell_type": "markdown",
   "metadata": {},
   "source": [
    "# Introduction to NEMS\n",
    "\n",
    "Modeling with NEMS four basic steps:\n",
    "1. Loading properly formatted data and performing any necessary preprocessing.\n",
    "1. Building a model for the data.\n",
    "1. Fitting the model to the data.\n",
    "1. Assessing model performance.\n",
    "\n",
    "In this introduction, we'll cover the basic coding objects used to accomplish\n",
    "those steps and then walk through a simple example.\n",
    "\n",
    "## Data format\n",
    "All data should be formatted as `NumPy` arrays. NEMS models assume timeseries\n",
    "data is provided with shape (T, ..., N), where T is the number of time points\n",
    "and N is the number of output channels (or neurons). Data with shape\n",
    "(S, T, ..., N) is also supported through optional arguments, where S represents\n",
    "some number of trials or samples.\n",
    "\n",
    "For example, a 10-second long recording of activity from 100 neurons sampled\n",
    "at 100 Hz should be provided as shape (1000, 100), and a corresponding 18-channel\n",
    "spectrogram with the same sampling rate should have shape (1000, 18).\n",
    "\n",
    "## Important objects\n",
    "1. `Layer`: encapsulates a single mathematical transformation and an associated\n",
    "          set of trainable parameters.\n",
    "1. `Model`: a collection of Layers that determines the transformation between input\n",
    "          data and the predicted output.\n",
    "\n",
    "## Layer\n",
    "Most Layers have one or more trainable `Parameter` values tracked by a single\n",
    "`Phi` container. These objects determine the trainable numbers that will be\n",
    "substituted in the mathematical operation specified by `Layer.evaluate`.\n",
    "The `Parameter` and `Phi` classes can be thought of as numpy arrays and python\n",
    "dictionaries, respectfully, with some NEMS-specific bookkeeping tacked on.\n",
    "Default `Parameter` values are determined by the `Layer.initial_parameters`\n",
    "method.\n",
    "\n",
    "Let's design a couple new Layer subclasses to demonstrate:"
   ]
  },
  {
   "cell_type": "code",
   "execution_count": 63,
   "metadata": {},
   "outputs": [],
   "source": [
    "import numpy as np\n",
    "from nems.layers.base import Layer, Phi, Parameter\n",
    "\n",
    "class Sum(Layer):\n",
    "    def evaluate(self, *inputs):\n",
    "        # All inputs are treated the same, no fittable parameters.\n",
    "        return np.sum(inputs, axis=0)\n",
    "\n",
    "class WeightedSum(Layer):\n",
    "\n",
    "    def initial_parameters(self):\n",
    "        a = Parameter('a')\n",
    "        b = Parameter('b')\n",
    "        return Phi(a, b)\n",
    "\n",
    "    def evaluate(self, input1, input2):\n",
    "        # Only two inputs are supported, and they are weighted differently.\n",
    "        a, b = self.get_parameter_values('a', 'b')\n",
    "        return a*input1 + b*input2"
   ]
  },
  {
   "attachments": {},
   "cell_type": "markdown",
   "metadata": {},
   "source": [
    "Now, let's create some instances of our new `Layers` and take a look at a summary\n",
    "of their properties."
   ]
  },
  {
   "cell_type": "code",
   "execution_count": 64,
   "metadata": {},
   "outputs": [
    {
     "data": {
      "text/plain": [
       "Sum(shape=None)\n",
       "================================"
      ]
     },
     "execution_count": 64,
     "metadata": {},
     "output_type": "execute_result"
    }
   ],
   "source": [
    "sum = Sum()\n",
    "sum"
   ]
  },
  {
   "cell_type": "code",
   "execution_count": 65,
   "metadata": {},
   "outputs": [
    {
     "data": {
      "text/plain": [
       "WeightedSum(shape=None)\n",
       "================================\n",
       "Parameter(name=a, shape=())\n",
       "----------------\n",
       "Parameter(name=b, shape=())\n",
       "================================"
      ]
     },
     "execution_count": 65,
     "metadata": {},
     "output_type": "execute_result"
    }
   ],
   "source": [
    "weighted = WeightedSum()\n",
    "weighted"
   ]
  },
  {
   "attachments": {},
   "cell_type": "markdown",
   "metadata": {},
   "source": [
    "Notice that the two `Parameters` we created for the `WeightedSum` subclass\n",
    "show up here. If we want to see more detail, like their numeric values,\n",
    "we can `print` a full report for the `Layer` instead:"
   ]
  },
  {
   "cell_type": "code",
   "execution_count": 66,
   "metadata": {},
   "outputs": [
    {
     "name": "stdout",
     "output_type": "stream",
     "text": [
      "WeightedSum(shape=None)\n",
      "================================\n",
      ".parameters:\n",
      "\n",
      "Parameter(name=a, shape=())\n",
      "----------------\n",
      ".prior:     Normal(μ=0.0, σ=1.0)\n",
      ".bounds:    (-inf, inf)\n",
      ".is_frozen: False\n",
      ".values:\n",
      "0.0\n",
      "----------------\n",
      "Index: 0\n",
      "----------------\n",
      "\n",
      "Parameter(name=b, shape=())\n",
      "----------------\n",
      ".prior:     Normal(μ=0.0, σ=1.0)\n",
      ".bounds:    (-inf, inf)\n",
      ".is_frozen: False\n",
      ".values:\n",
      "0.0\n",
      "----------------\n",
      "Index: 0\n",
      "----------------\n",
      "\n",
      "================================\n"
     ]
    }
   ],
   "source": [
    "print(weighted)"
   ]
  },
  {
   "attachments": {},
   "cell_type": "markdown",
   "metadata": {},
   "source": [
    "We can see that both parameters currently have a value of 0. This is because\n",
    "the default behavior for parameter intialization is to set the values to the\n",
    "mean of each `Parameter`'s prior `Distribution`. Since we didn't specify the\n",
    "`Distribution` ourselves, it defaulted to a normal distribution with mean zero\n",
    "and standard deviation 1. To choose a different prior, we could have specified\n",
    "it in the `initial_parameters` method using the `prior` keyword argument of the\n",
    "`Parameter` class, or we can set it when creating a new `WeightedSum` instance:"
   ]
  },
  {
   "cell_type": "code",
   "execution_count": 67,
   "metadata": {},
   "outputs": [
    {
     "name": "stdout",
     "output_type": "stream",
     "text": [
      "WeightedSum(shape=None)\n",
      "================================\n",
      ".parameters:\n",
      "\n",
      "Parameter(name=a, shape=())\n",
      "----------------\n",
      ".prior:     HalfNormal(σ=1)\n",
      ".bounds:    (-inf, inf)\n",
      ".is_frozen: False\n",
      ".values:\n",
      "0.7978845608028654\n",
      "----------------\n",
      "Index: 0\n",
      "----------------\n",
      "\n",
      "Parameter(name=b, shape=())\n",
      "----------------\n",
      ".prior:     Normal(μ=0.0, σ=1.0)\n",
      ".bounds:    (-inf, inf)\n",
      ".is_frozen: False\n",
      ".values:\n",
      "0.0\n",
      "----------------\n",
      "Index: 0\n",
      "----------------\n",
      "\n",
      "================================\n"
     ]
    }
   ],
   "source": [
    "from nems.distributions import HalfNormal\n",
    "\n",
    "weighted = WeightedSum(priors={'a': HalfNormal(sd=1)})\n",
    "# equivalent to Parameter(..., prior=HalfNormal(sd=1))\n",
    "print(weighted)"
   ]
  },
  {
   "attachments": {},
   "cell_type": "markdown",
   "metadata": {},
   "source": [
    "Let's evaluate some toy data to see how to use the `Layers`:"
   ]
  },
  {
   "cell_type": "code",
   "execution_count": 68,
   "metadata": {},
   "outputs": [
    {
     "data": {
      "text/plain": [
       "array([[3.],\n",
       "       [3.],\n",
       "       [3.],\n",
       "       [3.],\n",
       "       [3.],\n",
       "       [3.],\n",
       "       [3.],\n",
       "       [3.],\n",
       "       [3.],\n",
       "       [3.]])"
      ]
     },
     "execution_count": 68,
     "metadata": {},
     "output_type": "execute_result"
    }
   ],
   "source": [
    "x = np.ones(shape=(10,1))\n",
    "y = np.ones(shape=(10,1))*2\n",
    "\n",
    "sum.evaluate(x,y)"
   ]
  },
  {
   "attachments": {},
   "cell_type": "markdown",
   "metadata": {},
   "source": [
    "Pretty straightforward: the two inputs are added together along the first axis.\n",
    "With `WeightedSum`, however, the second input should be zero'd out, so that we\n",
    "get `a * x` for our output:"
   ]
  },
  {
   "cell_type": "code",
   "execution_count": 69,
   "metadata": {},
   "outputs": [
    {
     "data": {
      "text/plain": [
       "array([[0.79788456],\n",
       "       [0.79788456],\n",
       "       [0.79788456],\n",
       "       [0.79788456],\n",
       "       [0.79788456],\n",
       "       [0.79788456],\n",
       "       [0.79788456],\n",
       "       [0.79788456],\n",
       "       [0.79788456],\n",
       "       [0.79788456]])"
      ]
     },
     "execution_count": 69,
     "metadata": {},
     "output_type": "execute_result"
    }
   ],
   "source": [
    "weighted.evaluate(x,y)"
   ]
  },
  {
   "attachments": {},
   "cell_type": "markdown",
   "metadata": {},
   "source": [
    "## Model\n",
    "\n",
    "A `Model` coordinates the evaluation of one or `Layer` instances to describe\n",
    "a composite transformation. For example, we can combine the `WeightedSum`\n",
    "subclass we created with a new `Layer` to get a toy `Model` that computes a\n",
    "weighted sum of two inputs and squares the result."
   ]
  },
  {
   "cell_type": "code",
   "execution_count": 70,
   "metadata": {},
   "outputs": [
    {
     "data": {
      "text/plain": [
       "Model()\n",
       "~~~~~~~~~~~~~~~~~~~~~~~~~~~~~~~~~~~~~~~~~~~~~~~~~~~~~~~~~~~~~~~~\n",
       "WeightedSum(shape=None)\n",
       "================================\n",
       "Parameter(name=a, shape=())\n",
       "----------------\n",
       "Parameter(name=b, shape=())\n",
       "================================\n",
       "\n",
       "Square(shape=None)\n",
       "================================\n",
       "\n",
       "~~~~~~~~~~~~~~~~~~~~~~~~~~~~~~~~~~~~~~~~~~~~~~~~~~~~~~~~~~~~~~~~"
      ]
     },
     "execution_count": 70,
     "metadata": {},
     "output_type": "execute_result"
    }
   ],
   "source": [
    "from nems import Model\n",
    "\n",
    "class Square(Layer):\n",
    "    def evaluate(self, input):\n",
    "        return input ** 2\n",
    "\n",
    "data = {'x': np.random.rand(20,1),\n",
    "        'y': np.random.rand(20,1)}\n",
    "\n",
    "model = Model()\n",
    "model.add_layers(\n",
    "    WeightedSum(input=['x', 'y']),\n",
    "    Square()\n",
    ")\n",
    "model"
   ]
  },
  {
   "attachments": {},
   "cell_type": "markdown",
   "metadata": {},
   "source": [
    "Similar to the `Layer` class, we get a brief summary of the `Model` here. The\n",
    "order within the `Model` determines the flow of data: the output of each `Layer`\n",
    "is provided as input to the subsequent `Layer` moving from top to bottom, unless\n",
    "a `Layer` specifies its `input` separately.\n",
    "\n",
    "To transform the data, we use `Model.evaluate`. By default, this produces a\n",
    "dictionary containing all of the input data, any named intermediate outputs,\n",
    "and the final model output (with a default name of 'output'). If we only want\n",
    "the output, we can use the `return_full_data=False` keyword argument, or\n",
    "we can use `Model.predict`."
   ]
  },
  {
   "cell_type": "code",
   "execution_count": 71,
   "metadata": {},
   "outputs": [
    {
     "name": "stdout",
     "output_type": "stream",
     "text": [
      "dict_keys(['x', 'y', 'output'])\n"
     ]
    }
   ],
   "source": [
    "dict_out = model.evaluate(data)\n",
    "print(dict_out.keys())"
   ]
  },
  {
   "cell_type": "code",
   "execution_count": 72,
   "metadata": {},
   "outputs": [
    {
     "data": {
      "text/plain": [
       "array([[0., 0., 0., 0., 0., 0., 0., 0., 0., 0., 0., 0., 0., 0., 0., 0.,\n",
       "        0., 0., 0., 0.]])"
      ]
     },
     "execution_count": 72,
     "metadata": {},
     "output_type": "execute_result"
    }
   ],
   "source": [
    "out = model.predict(data)\n",
    "out.T"
   ]
  },
  {
   "attachments": {},
   "cell_type": "markdown",
   "metadata": {},
   "source": [
    "Currently our output is all zeroes because the default `Parameter` values are\n",
    "all zeroes. Let's try it with randomly sampled values instead. First, we create\n",
    "a new randomized model and print its `Parameter` values, then generate a new\n",
    "output."
   ]
  },
  {
   "cell_type": "code",
   "execution_count": 73,
   "metadata": {},
   "outputs": [
    {
     "name": "stdout",
     "output_type": "stream",
     "text": [
      "{'WeightedSum': {'a': array(1.55925701), 'b': array(0.34733557)}, 'Square': {}}\n"
     ]
    },
    {
     "data": {
      "text/plain": [
       "array([[0.72907787, 0.300961  , 2.73497655, 1.12274434, 1.50585002,\n",
       "        2.36493779, 0.6009686 , 0.28224823, 1.2895773 , 1.91118131,\n",
       "        0.78361893, 0.93467805, 1.50925873, 0.39563321, 0.42749202,\n",
       "        0.72356307, 1.42614169, 3.04890762, 2.55257048, 0.16056492]])"
      ]
     },
     "execution_count": 73,
     "metadata": {},
     "output_type": "execute_result"
    }
   ],
   "source": [
    "model = model.sample_from_priors()\n",
    "print(model.get_parameter_values())\n",
    "out = model.predict(data)\n",
    "out.T"
   ]
  },
  {
   "attachments": {},
   "cell_type": "markdown",
   "metadata": {},
   "source": [
    "Finally, let's use `Model.fit` to try to match some target data. A successful\n",
    "fit should be able to find the correct parameter values, `|a|=2` and `|b|=1.5`."
   ]
  },
  {
   "cell_type": "code",
   "execution_count": 76,
   "metadata": {},
   "outputs": [
    {
     "name": "stdout",
     "output_type": "stream",
     "text": [
      "Epoch 0\n",
      "==============================\n",
      "        Iteration 0, error is: 1.05899703...\n",
      "        Iteration 5, error is: 0.15242677...\n",
      "        Iteration 10, error is: 0.00375500...\n",
      "        Iteration 15, error is: 0.00012019...\n",
      "        Iteration 20, error is: 0.00000386...\n",
      "        Iteration 25, error is: 0.00000012...\n",
      "Fit successful: False\n",
      "Status: 2\n",
      "Message: ABNORMAL_TERMINATION_IN_LNSRCH\n",
      "\n",
      "Fitted parameter values:\n",
      "{'WeightedSum': {'a': array(2.), 'b': array(-1.5)}, 'Square': {}}\n"
     ]
    }
   ],
   "source": [
    "target = (2*data['x'] - 1.5*data['y'])**2\n",
    "fitted_model = model.fit(data, target)\n",
    "print(f\"\\nFitted parameter values:\\n{fitted_model.get_parameter_values()}\")"
   ]
  },
  {
   "attachments": {},
   "cell_type": "markdown",
   "metadata": {},
   "source": [
    "In this case we can clearly see that the fit was successful since there are\n",
    "only two parameter values to check. However, we can also use `Model.score` to\n",
    "get a more succinct assessment for larger models. By default, this computes the\n",
    "pearson correlation between the `Model` prediction and the target data."
   ]
  },
  {
   "cell_type": "code",
   "execution_count": 78,
   "metadata": {},
   "outputs": [
    {
     "data": {
      "text/plain": [
       "1.0"
      ]
     },
     "execution_count": 78,
     "metadata": {},
     "output_type": "execute_result"
    }
   ],
   "source": [
    "fitted_model.score(data, target)"
   ]
  },
  {
   "attachments": {},
   "cell_type": "markdown",
   "metadata": {},
   "source": [
    "We can also use the `visualization` library to compare the prediction and target\n",
    "graphically. Note that the `prediction_vs_target` utility assumes the model\n",
    "produces a firing rate, but that's only for labeling and has no impact on\n",
    "the plotted data."
   ]
  },
  {
   "cell_type": "code",
   "execution_count": 80,
   "metadata": {},
   "outputs": [
    {
     "data": {
      "image/png": "[encoded data removed]",
      "text/plain": [
       "<Figure size 432x288 with 1 Axes>"
      ]
     },
     "metadata": {
      "needs_background": "light"
     },
     "output_type": "display_data"
    }
   ],
   "source": [
    "from nems.visualization.fitter import prediction_vs_target\n",
    "\n",
    "ax = prediction_vs_target(data, target, fitted_model)"
   ]
  },
  {
   "cell_type": "code",
   "execution_count": null,
   "metadata": {},
   "outputs": [],
   "source": []
  }
 ],
 "metadata": {
  "kernelspec": {
   "display_name": "nems-env",
   "language": "python",
   "name": "python3"
  },
  "language_info": {
   "codemirror_mode": {
    "name": "ipython",
    "version": 3
   },
   "file_extension": ".py",
   "mimetype": "text/x-python",
   "name": "python",
   "nbconvert_exporter": "python",
   "pygments_lexer": "ipython3",
   "version": "3.9.12"
  },
  "orig_nbformat": 4,
  "vscode": {
   "interpreter": {
    "hash": "db2be69b1998ea19ccbeea4ffe5a2fe921bd3007ff03eaeffbb421f0a1755fa8"
   }
  }
 },
 "nbformat": 4,
 "nbformat_minor": 2
}
