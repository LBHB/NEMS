{
 "cells": [
  {
   "attachments": {},
   "cell_type": "markdown",
   "metadata": {},
   "source": [
    "# Introduction to NEMS\n",
    "\n",
    "Modeling with NEMS four basic steps:\n",
    "1. Loading properly formatted data and performing any necessary preprocessing.\n",
    "1. Building a model for the data.\n",
    "1. Fitting the model to the data.\n",
    "1. Assessing model performance.\n",
    "\n",
    "In this introduction, we'll cover the basic coding objects used to accomplish\n",
    "those steps and then walk through a simple example.\n",
    "\n",
    "## Data format\n",
    "All data should be formatted as `NumPy` arrays. NEMS models assume timeseries\n",
    "data is provided with shape (T, ..., N), where T is the number of time points\n",
    "and N is the number of output channels (or neurons). Data with shape\n",
    "(S, T, ..., N) is also supported through optional arguments, where S represents\n",
    "some number of trials or samples.\n",
    "\n",
    "For example, a 10-second long recording of activity from 100 neurons sampled\n",
    "at 100 Hz should be provided as shape (1000, 100), and a corresponding 18-channel\n",
    "spectrogram with the same sampling rate should have shape (1000, 18).\n",
    "\n",
    "## Important objects\n",
    "1. `Layer`: encapsulates a single mathematical transformation and an associated\n",
    "          set of trainable parameters.\n",
    "1. `Model`: a collection of Layers that determines the transformation between input\n",
    "          data and the predicted output.\n",
    "\n",
    "## Layer\n",
    "Most Layers have one or more trainable `Parameter` values tracked by a single\n",
    "`Phi` container. These objects determine the trainable numbers that will be\n",
    "substituted in the mathematical operation specified by `Layer.evaluate`.\n",
    "The `Parameter` and `Phi` classes can be thought of as numpy arrays and python\n",
    "dictionaries, respectfully, with some NEMS-specific bookkeeping tacked on.\n",
    "Default `Parameter` values are determined by the `Layer.initial_parameters`\n",
    "method.\n",
    "\n",
    "Let's design a couple new Layer subclasses to demonstrate:"
   ]
  },
  {
   "cell_type": "code",
   "execution_count": null,
   "metadata": {},
   "outputs": [],
   "source": [
    "import numpy as np\n",
    "from nems.layers.base import Layer, Phi, Parameter\n",
    "\n",
    "class Sum(Layer):\n",
    "    def evaluate(self, *inputs):\n",
    "        # All inputs are treated the same, no fittable parameters.\n",
    "        return np.sum(inputs, axis=0)\n",
    "\n",
    "class WeightedSum(Layer):\n",
    "\n",
    "    def initial_parameters(self):\n",
    "        a = Parameter('a')\n",
    "        b = Parameter('b')\n",
    "        return Phi(a, b)\n",
    "\n",
    "    def evaluate(self, input1, input2):\n",
    "        # Only two inputs are supported, and they are weighted differently.\n",
    "        a, b = self.get_parameter_values('a', 'b')\n",
    "        return a*input1 + b*input2"
   ]
  },
  {
   "attachments": {},
   "cell_type": "markdown",
   "metadata": {},
   "source": [
    "Now, let's create some instances of our new `Layers` and take a look at a summary\n",
    "of their properties."
   ]
  },
  {
   "cell_type": "code",
   "execution_count": null,
   "metadata": {},
   "outputs": [
    {
     "data": {
      "text/plain": [
       "Sum(shape=None)\n",
       "================================"
      ]
     },
     "execution_count": 2,
     "metadata": {},
     "output_type": "execute_result"
    }
   ],
   "source": [
    "sum = Sum()\n",
    "sum"
   ]
  },
  {
   "cell_type": "code",
   "execution_count": null,
   "metadata": {},
   "outputs": [
    {
     "data": {
      "text/plain": [
       "WeightedSum(shape=None)\n",
       "================================\n",
       "Parameter(name=a, shape=())\n",
       "----------------\n",
       "Parameter(name=b, shape=())\n",
       "================================"
      ]
     },
     "execution_count": 3,
     "metadata": {},
     "output_type": "execute_result"
    }
   ],
   "source": [
    "weighted = WeightedSum()\n",
    "weighted"
   ]
  },
  {
   "attachments": {},
   "cell_type": "markdown",
   "metadata": {},
   "source": [
    "Notice that the two `Parameters` we created for the `WeightedSum` subclass\n",
    "show up here. If we want to see more detail, like their numeric values,\n",
    "we can `print` a full report for the `Layer` instead:"
   ]
  },
  {
   "cell_type": "code",
   "execution_count": null,
   "metadata": {},
   "outputs": [
    {
     "name": "stdout",
     "output_type": "stream",
     "text": [
      "WeightedSum(shape=None)\n",
      "================================\n",
      ".parameters:\n",
      "\n",
      "Parameter(name=a, shape=())\n",
      "----------------\n",
      ".prior:     Normal(μ=0.0, σ=1.0)\n",
      ".bounds:    (-inf, inf)\n",
      ".is_frozen: False\n",
      ".values:\n",
      "0.0\n",
      "----------------\n",
      "Index: 0\n",
      "----------------\n",
      "\n",
      "Parameter(name=b, shape=())\n",
      "----------------\n",
      ".prior:     Normal(μ=0.0, σ=1.0)\n",
      ".bounds:    (-inf, inf)\n",
      ".is_frozen: False\n",
      ".values:\n",
      "0.0\n",
      "----------------\n",
      "Index: 0\n",
      "----------------\n",
      "\n",
      "================================\n"
     ]
    }
   ],
   "source": [
    "print(weighted)"
   ]
  },
  {
   "attachments": {},
   "cell_type": "markdown",
   "metadata": {},
   "source": [
    "We can see that both parameters currently have a value of 0. This is because\n",
    "the default behavior for parameter intialization is to set the values to the\n",
    "mean of each `Parameter`'s prior `Distribution`. Since we didn't specify the\n",
    "`Distribution` ourselves, it defaulted to a normal distribution with mean zero\n",
    "and standard deviation 1. To choose a different prior, we could have specified\n",
    "it in the `initial_parameters` method using the `prior` keyword argument of the\n",
    "`Parameter` class, or we can set it when creating a new `WeightedSum` instance:"
   ]
  },
  {
   "cell_type": "code",
   "execution_count": null,
   "metadata": {},
   "outputs": [
    {
     "name": "stdout",
     "output_type": "stream",
     "text": [
      "WeightedSum(shape=None)\n",
      "================================\n",
      ".parameters:\n",
      "\n",
      "Parameter(name=a, shape=())\n",
      "----------------\n",
      ".prior:     HalfNormal(σ=1)\n",
      ".bounds:    (-inf, inf)\n",
      ".is_frozen: False\n",
      ".values:\n",
      "0.7978845608028654\n",
      "----------------\n",
      "Index: 0\n",
      "----------------\n",
      "\n",
      "Parameter(name=b, shape=())\n",
      "----------------\n",
      ".prior:     Normal(μ=0.0, σ=1.0)\n",
      ".bounds:    (-inf, inf)\n",
      ".is_frozen: False\n",
      ".values:\n",
      "0.0\n",
      "----------------\n",
      "Index: 0\n",
      "----------------\n",
      "\n",
      "================================\n"
     ]
    }
   ],
   "source": [
    "from nems.distributions import HalfNormal\n",
    "\n",
    "weighted = WeightedSum(priors={'a': HalfNormal(sd=1)})\n",
    "# equivalent to Parameter(..., prior=HalfNormal(sd=1))\n",
    "print(weighted)"
   ]
  },
  {
   "attachments": {},
   "cell_type": "markdown",
   "metadata": {},
   "source": [
    "Let's evaluate some toy data to see how to use the `Layers`:"
   ]
  },
  {
   "cell_type": "code",
   "execution_count": null,
   "metadata": {},
   "outputs": [
    {
     "data": {
      "text/plain": [
       "array([[3., 3., 3., 3., 3., 3., 3., 3., 3., 3.]])"
      ]
     },
     "execution_count": 6,
     "metadata": {},
     "output_type": "execute_result"
    }
   ],
   "source": [
    "x = np.ones(shape=(10,1))\n",
    "y = np.ones(shape=(10,1))*2\n",
    "\n",
    "sum.evaluate(x,y).T"
   ]
  },
  {
   "attachments": {},
   "cell_type": "markdown",
   "metadata": {},
   "source": [
    "Pretty straightforward: the two inputs are added together along the first axis.\n",
    "With `WeightedSum`, however, the second input should be zero'd out, so that we\n",
    "get `a * x` for our output:"
   ]
  },
  {
   "cell_type": "code",
   "execution_count": null,
   "metadata": {},
   "outputs": [
    {
     "data": {
      "text/plain": [
       "array([[0.79788456, 0.79788456, 0.79788456, 0.79788456, 0.79788456,\n",
       "        0.79788456, 0.79788456, 0.79788456, 0.79788456, 0.79788456]])"
      ]
     },
     "execution_count": 7,
     "metadata": {},
     "output_type": "execute_result"
    }
   ],
   "source": [
    "weighted.evaluate(x,y).T"
   ]
  },
  {
   "attachments": {},
   "cell_type": "markdown",
   "metadata": {},
   "source": [
    "## Model\n",
    "\n",
    "A `Model` coordinates the evaluation of one or `Layer` instances to describe\n",
    "a composite transformation. For example, we can combine the `WeightedSum`\n",
    "subclass we created with a new `Layer` to get a toy `Model` that computes a\n",
    "weighted sum of two inputs and squares the result."
   ]
  },
  {
   "cell_type": "code",
   "execution_count": null,
   "metadata": {},
   "outputs": [
    {
     "data": {
      "text/plain": [
       "Model()\n",
       "~~~~~~~~~~~~~~~~~~~~~~~~~~~~~~~~~~~~~~~~~~~~~~~~~~~~~~~~~~~~~~~~\n",
       "WeightedSum(shape=None)\n",
       "================================\n",
       "Parameter(name=a, shape=())\n",
       "----------------\n",
       "Parameter(name=b, shape=())\n",
       "================================\n",
       "\n",
       "Square(shape=None)\n",
       "================================\n",
       "\n",
       "~~~~~~~~~~~~~~~~~~~~~~~~~~~~~~~~~~~~~~~~~~~~~~~~~~~~~~~~~~~~~~~~"
      ]
     },
     "execution_count": 8,
     "metadata": {},
     "output_type": "execute_result"
    }
   ],
   "source": [
    "from nems import Model\n",
    "\n",
    "class Square(Layer):\n",
    "    def evaluate(self, input):\n",
    "        return input ** 2\n",
    "\n",
    "data = {'x': np.random.rand(20,1),\n",
    "        'y': np.random.rand(20,1)}\n",
    "\n",
    "model = Model()\n",
    "model.add_layers(\n",
    "    WeightedSum(input=['x', 'y']),\n",
    "    Square()\n",
    ")\n",
    "model"
   ]
  },
  {
   "attachments": {},
   "cell_type": "markdown",
   "metadata": {},
   "source": [
    "Similar to the `Layer` class, we get a brief summary of the `Model` here. The\n",
    "order within the `Model` determines the flow of data: the output of each `Layer`\n",
    "is provided as input to the subsequent `Layer` moving from top to bottom, unless\n",
    "a `Layer` specifies its `input` separately.\n",
    "\n",
    "To transform the data, we use `Model.evaluate`. By default, this produces a\n",
    "dictionary containing all of the input data, any named intermediate outputs,\n",
    "and the final model output (with a default name of 'output'). If we only want\n",
    "the output, we can use the `return_full_data=False` keyword argument, or\n",
    "we can use `Model.predict`."
   ]
  },
  {
   "cell_type": "code",
   "execution_count": null,
   "metadata": {},
   "outputs": [
    {
     "name": "stdout",
     "output_type": "stream",
     "text": [
      "dict_keys(['x', 'y', 'output'])\n"
     ]
    }
   ],
   "source": [
    "dict_out = model.evaluate(data)\n",
    "print(dict_out.keys())"
   ]
  },
  {
   "cell_type": "code",
   "execution_count": null,
   "metadata": {},
   "outputs": [
    {
     "data": {
      "text/plain": [
       "array([[0., 0., 0., 0., 0., 0., 0., 0., 0., 0., 0., 0., 0., 0., 0., 0.,\n",
       "        0., 0., 0., 0.]])"
      ]
     },
     "execution_count": 10,
     "metadata": {},
     "output_type": "execute_result"
    }
   ],
   "source": [
    "out = model.predict(data)\n",
    "out.T"
   ]
  },
  {
   "attachments": {},
   "cell_type": "markdown",
   "metadata": {},
   "source": [
    "Currently our output is all zeroes because the default `Parameter` values are\n",
    "all zeroes. Let's try it with randomly sampled values instead. First, we create\n",
    "a new randomized model and print its `Parameter` values, then generate a new\n",
    "output."
   ]
  },
  {
   "cell_type": "code",
   "execution_count": null,
   "metadata": {},
   "outputs": [
    {
     "name": "stdout",
     "output_type": "stream",
     "text": [
      "{'WeightedSum': {'a': array(0.14423579), 'b': array(1.59272023)}, 'Square': {}}\n"
     ]
    },
    {
     "data": {
      "text/plain": [
       "array([[1.14480989e+00, 2.08852269e+00, 1.08547141e-03, 2.12767500e-02,\n",
       "        5.44160615e-01, 2.35349162e+00, 1.75074923e-01, 7.36308937e-02,\n",
       "        2.72810510e+00, 1.26032176e+00, 3.73930608e-03, 9.13512452e-01,\n",
       "        1.40198324e+00, 2.96283257e-01, 4.13780794e-02, 5.55361038e-01,\n",
       "        8.04765963e-01, 3.33742762e-01, 2.79700128e-02, 4.45304643e-01]])"
      ]
     },
     "execution_count": 11,
     "metadata": {},
     "output_type": "execute_result"
    }
   ],
   "source": [
    "model = model.sample_from_priors()\n",
    "print(model.get_parameter_values())\n",
    "out = model.predict(data)\n",
    "out.T"
   ]
  },
  {
   "attachments": {},
   "cell_type": "markdown",
   "metadata": {},
   "source": [
    "## Modeling a Simple Simulated Neuron\n",
    "\n",
    "Let's take a look at how we can use NEMS to actually model neural data.\n",
    "To demonstrate, we'll synthesize data for a simple linear auditory neuron with\n",
    "a firing rate proportional to the intensity of a single tone. We can simulate\n",
    "the sound input with the `scipy.signal` package for convenience."
   ]
  },
  {
   "cell_type": "code",
   "execution_count": null,
   "metadata": {},
   "outputs": [
    {
     "data": {
      "text/plain": [
       "<matplotlib.legend.Legend at 0x193c268b430>"
      ]
     },
     "execution_count": 12,
     "metadata": {},
     "output_type": "execute_result"
    },
    {
     "data": {
      "image/png": "[encoded data removed]",
      "text/plain": [
       "<Figure size 432x288 with 1 Axes>"
      ]
     },
     "metadata": {
      "needs_background": "light"
     },
     "output_type": "display_data"
    }
   ],
   "source": [
    "import scipy.signal as ss\n",
    "import matplotlib.pyplot as plt\n",
    "\n",
    "t = np.linspace(-0.001, 0.001, 100, endpoint=False)\n",
    "# gausspulse returns a vector representing a gaussian-modulated sinusoid\n",
    "# with center frequency `fc` in Hz. See `scipy` documentation for other details.\n",
    "high_freq, high_envelope = ss.gausspulse(t, fc=5000, retenv=True)\n",
    "low_freq, low_envelope = ss.gausspulse(t, fc=2000, retenv=True)\n",
    "waveform = np.concatenate([high_freq, low_freq])\n",
    "response = 0.3*np.concatenate([np.zeros_like(t), low_envelope])\n",
    "\n",
    "fig, ax = plt.subplots(1,1)\n",
    "plt.plot(waveform, 'k-', label='Sound Waveform')\n",
    "plt.plot(response, 'r-', label='Response')\n",
    "plt.xlabel('Time (ms)')\n",
    "plt.ylabel('Amplitude // Firing Rate')\n",
    "plt.legend(frameon=False)"
   ]
  },
  {
   "attachments": {},
   "cell_type": "markdown",
   "metadata": {},
   "source": [
    "Note that our imaginary neuron doesn't fire at all in response to the 5 KHz\n",
    "tone, but responds in direct proportion to the amplitude of the 2 KHz tone.\n",
    "We can model this simple linear behavior with a new `WeightChannels` Layer.\n",
    "In particuar, if we represent the sound waveform as a 2-channel\n",
    "pseudo-spectrogram, we should fit weights of 0 and 0.3 for the high- and\n",
    "low-frequency channels, respectively. Note that in the spectrogram generated\n",
    "below, frequency is represented discretely on the vertical axis and amplitude\n",
    "is represented by saturation"
   ]
  },
  {
   "cell_type": "code",
   "execution_count": null,
   "metadata": {},
   "outputs": [
    {
     "data": {
      "image/png": "[encoded data removed]",
      "text/plain": [
       "<Figure size 432x288 with 2 Axes>"
      ]
     },
     "metadata": {
      "needs_background": "light"
     },
     "output_type": "display_data"
    }
   ],
   "source": [
    "high_channel = np.concatenate([high_envelope, np.zeros_like(t)])\n",
    "low_channel = np.concatenate([np.zeros_like(t), low_envelope])\n",
    "spectrogram = np.vstack([high_channel, low_channel]).T\n",
    "\n",
    "def plot_data(prediction=None):\n",
    "    fig, ax = plt.subplots(1,1)\n",
    "    ax2 = ax.twinx()\n",
    "    ax.imshow(spectrogram.T, aspect='auto', interpolation='none', cmap='binary')\n",
    "    ax2.plot(response, 'r-')\n",
    "    if prediction is not None:\n",
    "        ax2.plot(prediction, 'b--')\n",
    "\n",
    "    ax.yaxis.set_visible(False)\n",
    "    ax.set_xlabel(\"Time (ms)\")\n",
    "    ax2.set_ylabel(\"Firing Rate (Hz)\")\n",
    "\n",
    "plot_data()"
   ]
  },
  {
   "attachments": {},
   "cell_type": "markdown",
   "metadata": {},
   "source": [
    "Now, let's use `Model.fit` to try to match the response data. We'll create a\n",
    "new Layer that computes a weighted sum of the spectrogram input to predict\n",
    "the response. A successful fit should be able to find the correct parameter\n",
    "values, `[0.0, 0.3]`. Note that `WeightChannels` already exists in the\n",
    "`nems.layers` library, but we'll re-create a simple version here to demonstrate."
   ]
  },
  {
   "cell_type": "code",
   "execution_count": null,
   "metadata": {},
   "outputs": [
    {
     "name": "stdout",
     "output_type": "stream",
     "text": [
      "Epoch 0\n",
      "==============================\n",
      "        Iteration 0, error is: 0.00758946...\n",
      "Fit successful: False\n",
      "Status: 2\n",
      "Message: ABNORMAL_TERMINATION_IN_LNSRCH\n",
      "\n",
      "Fitted parameter values:\n",
      "{'WeightChannels': {'coefficients': array([[-3.70172149e-09],\n",
      "       [ 2.99999997e-01]])}}\n"
     ]
    }
   ],
   "source": [
    "class WeightChannels(Layer):\n",
    "    def initial_parameters(self):\n",
    "        coefficients = Parameter('coefficients', shape=self.shape)\n",
    "        return Phi(coefficients)\n",
    "\n",
    "    def evaluate(self, spectrogram):\n",
    "        # Only two inputs are supported, and they are weighted differently.\n",
    "        coefficients = self.get_parameter_values()\n",
    "        # @ represents matrix multiplication, and the squeeze prevents an\n",
    "        # extra dimension from being prepended to the output.\n",
    "        return np.squeeze(spectrogram @ coefficients, axis=0)\n",
    "\n",
    "linear_model = Model(layers=WeightChannels(shape=(2,1)))"
   ]
  },
  {
   "attachments": {},
   "cell_type": "markdown",
   "metadata": {},
   "source": [
    "First, we'll check that the model behaves as expected with some random\n",
    "initial parameters."
   ]
  },
  {
   "cell_type": "code",
   "execution_count": null,
   "metadata": {},
   "outputs": [
    {
     "name": "stdout",
     "output_type": "stream",
     "text": [
      "[[0.14423579]\n",
      " [1.59272023]]\n"
     ]
    },
    {
     "data": {
      "image/png": "[encoded data removed]",
      "text/plain": [
       "<Figure size 432x288 with 2 Axes>"
      ]
     },
     "metadata": {
      "needs_background": "light"
     },
     "output_type": "display_data"
    }
   ],
   "source": [
    "random_model = linear_model.sample_from_priors()\n",
    "print(random_model.get_parameter_values()['WeightChannels']['coefficients'])\n",
    "plot_data(random_model.predict(spectrogram))"
   ]
  },
  {
   "attachments": {},
   "cell_type": "markdown",
   "metadata": {},
   "source": [
    "Depending on the parameters you generated, you should see that the blue curve\n",
    "responds strongly to the first sound if the first coefficient is large, and\n",
    "responds strongly to the second sound if the second coefficient is large.\n",
    "\n",
    "Now, let's fit to the simulated data."
   ]
  },
  {
   "cell_type": "code",
   "execution_count": null,
   "metadata": {},
   "outputs": [
    {
     "name": "stdout",
     "output_type": "stream",
     "text": [
      "Epoch 0\n",
      "==============================\n",
      "        Iteration 0, error is: 0.22535711...\n",
      "        Iteration 5, error is: 0.00800495...\n",
      "        Iteration 10, error is: 0.00023635...\n",
      "        Iteration 15, error is: 0.00000697...\n",
      "        Iteration 20, error is: 0.00000023...\n",
      "Fit successful: False\n",
      "Status: 2\n",
      "Message: ABNORMAL_TERMINATION_IN_LNSRCH\n",
      "\n",
      "Fitted parameter values:\n",
      "{'WeightChannels': {'coefficients': array([[-3.12388031e-09],\n",
      "       [ 3.00000000e-01]])}}\n"
     ]
    }
   ],
   "source": [
    "fitted_model = random_model.fit(spectrogram, response)\n",
    "print(f\"\\nFitted parameter values:\\n{fitted_model.get_parameter_values()}\")"
   ]
  },
  {
   "attachments": {},
   "cell_type": "markdown",
   "metadata": {},
   "source": [
    "In this case we can clearly see that the fit was successful since there are\n",
    "only two parameter values to check. However, we can also use `Model.score` to\n",
    "get a more succinct assessment for larger models. By default, this computes the\n",
    "pearson correlation between the `Model` prediction and the target data."
   ]
  },
  {
   "cell_type": "code",
   "execution_count": null,
   "metadata": {},
   "outputs": [
    {
     "data": {
      "text/plain": [
       "1.0"
      ]
     },
     "execution_count": 50,
     "metadata": {},
     "output_type": "execute_result"
    }
   ],
   "source": [
    "fitted_model.score(spectrogram, response)"
   ]
  },
  {
   "cell_type": "code",
   "execution_count": null,
   "metadata": {},
   "outputs": [
    {
     "data": {
      "image/png": "[encoded data removed]",
      "text/plain": [
       "<Figure size 432x288 with 2 Axes>"
      ]
     },
     "metadata": {
      "needs_background": "light"
     },
     "output_type": "display_data"
    }
   ],
   "source": [
    "plot_data(fitted_model.predict(spectrogram))"
   ]
  },
  {
   "attachments": {},
   "cell_type": "markdown",
   "metadata": {},
   "source": [
    "A perfect match!"
   ]
  },
  {
   "cell_type": "code",
   "execution_count": null,
   "metadata": {},
   "outputs": [],
   "source": []
  }
 ],
 "metadata": {
  "kernelspec": {
   "display_name": "nems-env",
   "language": "python",
   "name": "python3"
  },
  "language_info": {
   "codemirror_mode": {
    "name": "ipython",
    "version": 3
   },
   "file_extension": ".py",
   "mimetype": "text/x-python",
   "name": "python",
   "nbconvert_exporter": "python",
   "pygments_lexer": "ipython3",
   "version": "3.9.12"
  },
  "orig_nbformat": 4,
  "vscode": {
   "interpreter": {
    "hash": "db2be69b1998ea19ccbeea4ffe5a2fe921bd3007ff03eaeffbb421f0a1755fa8"
   }
  }
 },
 "nbformat": 4,
 "nbformat_minor": 2
}
